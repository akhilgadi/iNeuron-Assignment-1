{
 "cells": [
  {
   "cell_type": "code",
   "execution_count": 1,
   "metadata": {},
   "outputs": [
    {
     "data": {
      "text/plain": [
       "range(0, 10)"
      ]
     },
     "execution_count": 1,
     "metadata": {},
     "output_type": "execute_result"
    }
   ],
   "source": [
    "range(10)"
   ]
  },
  {
   "cell_type": "code",
   "execution_count": 3,
   "metadata": {},
   "outputs": [
    {
     "data": {
      "text/plain": [
       "[1, 2, 3, 4, 5, 6, 7, 8, 9]"
      ]
     },
     "execution_count": 3,
     "metadata": {},
     "output_type": "execute_result"
    }
   ],
   "source": [
    "list(range(1,10))"
   ]
  },
  {
   "cell_type": "code",
   "execution_count": 6,
   "metadata": {},
   "outputs": [
    {
     "name": "stdout",
     "output_type": "stream",
     "text": [
      "[]\n",
      "[10, 9, 8, 7, 6, 5, 4]\n"
     ]
    }
   ],
   "source": [
    "print(list(range(10,3)));print(list(range(10,3,-1)))"
   ]
  },
  {
   "cell_type": "code",
   "execution_count": 7,
   "metadata": {},
   "outputs": [
    {
     "name": "stdout",
     "output_type": "stream",
     "text": [
      "3\n",
      "5\n",
      "6\n",
      "48\n",
      "1\n",
      "5\n",
      "26\n",
      "48\n",
      "2\n",
      "4\n"
     ]
    }
   ],
   "source": [
    "l = [3,5,6,48,1,5,26,48,2,4]\n",
    "\n",
    "for i in l:\n",
    "    print(i)"
   ]
  },
  {
   "cell_type": "code",
   "execution_count": 8,
   "metadata": {},
   "outputs": [
    {
     "name": "stdout",
     "output_type": "stream",
     "text": [
      "5\n",
      "7\n",
      "8\n",
      "50\n",
      "3\n",
      "7\n",
      "28\n",
      "50\n",
      "4\n",
      "6\n"
     ]
    }
   ],
   "source": [
    "for i in l:\n",
    "    print(i+2)"
   ]
  },
  {
   "cell_type": "code",
   "execution_count": 1,
   "metadata": {},
   "outputs": [
    {
     "name": "stdout",
     "output_type": "stream",
     "text": [
      "[5, 7, 8, 50, 3, 7, 28, 50, 4, 6]\n"
     ]
    }
   ],
   "source": [
    "l = [3,5,6,48,1,5,26,48,2,4]\n",
    "\n",
    "m =[]\n",
    "for i in l:\n",
    "    m.append(i+2)\n",
    "    \n",
    "print(m)"
   ]
  },
  {
   "cell_type": "code",
   "execution_count": 10,
   "metadata": {},
   "outputs": [
    {
     "name": "stdout",
     "output_type": "stream",
     "text": [
      "3\n",
      "5\n",
      "6\n",
      "48\n",
      "1\n",
      "5\n",
      "26\n",
      "48\n",
      "2\n",
      "4\n"
     ]
    }
   ],
   "source": [
    "for i in range(len(l)):\n",
    "    print(l[i])"
   ]
  },
  {
   "cell_type": "code",
   "execution_count": 4,
   "metadata": {},
   "outputs": [
    {
     "name": "stdout",
     "output_type": "stream",
     "text": [
      "[5, 7, 8, 50, 3, 7, 28, 50, 4, 6]\n"
     ]
    }
   ],
   "source": [
    "l = [3,5,6,48,1,5,26,48,2,4]\n",
    "m = []\n",
    "for i in range(len(l)):\n",
    "    m.append(l[i]+2)\n",
    "\n",
    "print(m)"
   ]
  },
  {
   "cell_type": "code",
   "execution_count": 7,
   "metadata": {},
   "outputs": [
    {
     "name": "stdout",
     "output_type": "stream",
     "text": [
      "[50, 28, 50]\n"
     ]
    }
   ],
   "source": [
    "l = [3,5,6,48,1,5,26,48,2,4]\n",
    "m = []\n",
    "for i in l:\n",
    "    if i>=10:\n",
    "        m.append(i+2)\n",
    "\n",
    "print(m)"
   ]
  },
  {
   "cell_type": "code",
   "execution_count": 8,
   "metadata": {},
   "outputs": [
    {
     "name": "stdout",
     "output_type": "stream",
     "text": [
      "Yes 15  its greater than 10\n"
     ]
    }
   ],
   "source": [
    "s = 15\n",
    "if s >= 10:\n",
    "    print(\"Yes\",s,\"its greater than 10\")"
   ]
  },
  {
   "cell_type": "code",
   "execution_count": 16,
   "metadata": {},
   "outputs": [
    {
     "name": "stdout",
     "output_type": "stream",
     "text": [
      "5 is equal to 5\n"
     ]
    }
   ],
   "source": [
    "s = 5\n",
    "if s > 5:\n",
    "    print(s,\"is greater than 5\")\n",
    "elif s < 5:\n",
    "    print(s,\"is less than 5\")\n",
    "else:\n",
    "    print(s,\"is equal to 5\")"
   ]
  },
  {
   "cell_type": "code",
   "execution_count": 18,
   "metadata": {},
   "outputs": [
    {
     "name": "stdout",
     "output_type": "stream",
     "text": [
      "['Akhil', 'Kumar'] This is a list of Characters\n",
      "[5, 7, 15, 85, 41, 20, 1, 54, 7] This is a list of numbers\n"
     ]
    }
   ],
   "source": [
    "L= [5,7,15,85,41,20,1,54,7,\"Akhil\",\"Kumar\"]\n",
    "m = []; n=[]\n",
    "\n",
    "for i in L:\n",
    "    if type(i) == str:\n",
    "        m.append(i)\n",
    "    elif type(i)==int:\n",
    "        n.append(i)\n",
    "        \n",
    "print(m,\"This is a list of Characters\"); print(n,\"This is a list of numbers\")"
   ]
  },
  {
   "cell_type": "code",
   "execution_count": 20,
   "metadata": {},
   "outputs": [
    {
     "name": "stdout",
     "output_type": "stream",
     "text": [
      "5 is a number\n",
      "7 is a number\n",
      "15 is a number\n",
      "85 is a number\n",
      "41 is a number\n",
      "20 is a number\n",
      "1 is a number\n",
      "54 is a number\n",
      "7 is a number\n",
      "Akhil is a letter\n",
      "Kumar is a letter\n"
     ]
    }
   ],
   "source": [
    "for i in L:\n",
    "    if type(i) == str:\n",
    "        print(i, 'is a letter')\n",
    "    elif type(i) == int:\n",
    "        print(i,'is a number')"
   ]
  },
  {
   "cell_type": "code",
   "execution_count": 19,
   "metadata": {},
   "outputs": [
    {
     "name": "stdout",
     "output_type": "stream",
     "text": [
      "5\n",
      "7\n",
      "15\n",
      "85\n",
      "41\n",
      "20\n",
      "1\n",
      "54\n",
      "7\n",
      "Akhil\n",
      "Kumar\n",
      "This is a test command\n"
     ]
    }
   ],
   "source": [
    "for i in L:\n",
    "    print(i)\n",
    "else:\n",
    "    print(\"This is a test command\")"
   ]
  },
  {
   "cell_type": "code",
   "execution_count": 26,
   "metadata": {},
   "outputs": [
    {
     "name": "stdout",
     "output_type": "stream",
     "text": [
      "1 is s value;  2 is i value\n",
      "3 is s value;  3 is i value\n",
      "6 is s value;  4 is i value\n",
      "10 is s value;  5 is i value\n",
      "15 is s value;  6 is i value\n",
      "21 is s value;  7 is i value\n",
      "28 is s value;  8 is i value\n",
      "36 is s value;  9 is i value\n",
      "45 is s value;  10 is i value\n",
      "55 is s value;  11 is i value\n",
      "55 is the final answer\n"
     ]
    }
   ],
   "source": [
    "d= 10; s = 0; i=1\n",
    "while i <= d:\n",
    "    s = s+i\n",
    "    i = i+1\n",
    "    print(s,'is s value; ', i,'is i value')\n",
    "print(s,'is the final answer')"
   ]
  },
  {
   "cell_type": "code",
   "execution_count": 7,
   "metadata": {},
   "outputs": [
    {
     "name": "stdout",
     "output_type": "stream",
     "text": [
      "A\n",
      "k\n",
      "h\n",
      "out of loop\n"
     ]
    }
   ],
   "source": [
    "for x in 'Akhil':\n",
    "    if x == 'i':\n",
    "        break\n",
    "    print(x)\n",
    "else:\n",
    "    print('I am able to complete iteration')\n",
    "print('out of loop')\n"
   ]
  },
  {
   "cell_type": "code",
   "execution_count": 16,
   "metadata": {},
   "outputs": [
    {
     "name": "stdout",
     "output_type": "stream",
     "text": [
      "A in loop\n",
      "k in loop\n",
      "h in loop\n",
      "l in loop\n"
     ]
    }
   ],
   "source": [
    "for i in 'Akhil':\n",
    "    if i == 'i':\n",
    "        continue\n",
    "    print(i, 'in loop')\n",
    "    "
   ]
  },
  {
   "cell_type": "markdown",
   "metadata": {},
   "source": [
    "### Input function"
   ]
  },
  {
   "cell_type": "code",
   "execution_count": 20,
   "metadata": {
    "scrolled": true
   },
   "outputs": [
    {
     "name": "stdout",
     "output_type": "stream",
     "text": [
      "45\n"
     ]
    },
    {
     "data": {
      "text/plain": [
       "str"
      ]
     },
     "execution_count": 20,
     "metadata": {},
     "output_type": "execute_result"
    }
   ],
   "source": [
    "type(input())"
   ]
  },
  {
   "cell_type": "code",
   "execution_count": 6,
   "metadata": {},
   "outputs": [
    {
     "name": "stdout",
     "output_type": "stream",
     "text": [
      "Enter an integer 7\n"
     ]
    },
    {
     "data": {
      "text/plain": [
       "'7'"
      ]
     },
     "execution_count": 6,
     "metadata": {},
     "output_type": "execute_result"
    }
   ],
   "source": [
    "input(\"Enter an integer \")"
   ]
  },
  {
   "cell_type": "code",
   "execution_count": 2,
   "metadata": {},
   "outputs": [
    {
     "name": "stdout",
     "output_type": "stream",
     "text": [
      " Enter an integer 5\n"
     ]
    },
    {
     "data": {
      "text/plain": [
       "'5'"
      ]
     },
     "execution_count": 2,
     "metadata": {},
     "output_type": "execute_result"
    }
   ],
   "source": [
    "input(' Enter an integer ')"
   ]
  },
  {
   "cell_type": "code",
   "execution_count": 26,
   "metadata": {},
   "outputs": [
    {
     "name": "stdout",
     "output_type": "stream",
     "text": [
      "45\n"
     ]
    }
   ],
   "source": [
    "a = str(input())"
   ]
  },
  {
   "cell_type": "code",
   "execution_count": 27,
   "metadata": {},
   "outputs": [
    {
     "data": {
      "text/plain": [
       "str"
      ]
     },
     "execution_count": 27,
     "metadata": {},
     "output_type": "execute_result"
    }
   ],
   "source": [
    "type(a) #1,6,4,2,1,9,5,8,7,6,3,2,1,2,2,4,5,6,3,6,3,8,7,9,9,5"
   ]
  },
  {
   "cell_type": "code",
   "execution_count": 6,
   "metadata": {},
   "outputs": [
    {
     "name": "stdout",
     "output_type": "stream",
     "text": [
      "1\n",
      "Number not found\n",
      "Number not found\n",
      "Number not found\n",
      "Number not found\n",
      "Number not found\n",
      "[1, 1, 1, 1, 1]\n"
     ]
    }
   ],
   "source": [
    "a = int(input())\n",
    "l = [1,1,1,1,1,2,2,2,2,2]\n",
    "m = []\n",
    "\n",
    "for i in l:\n",
    "    if i == a:\n",
    "        m.append(i)\n",
    "    else:\n",
    "        print('Number not found')\n",
    "print(m)    "
   ]
  },
  {
   "cell_type": "code",
   "execution_count": 10,
   "metadata": {},
   "outputs": [
    {
     "ename": "SyntaxError",
     "evalue": "'continue' not properly in loop (<ipython-input-10-4e3af228f687>, line 10)",
     "output_type": "error",
     "traceback": [
      "\u001b[1;36m  File \u001b[1;32m\"<ipython-input-10-4e3af228f687>\"\u001b[1;36m, line \u001b[1;32m10\u001b[0m\n\u001b[1;31mSyntaxError\u001b[0m\u001b[1;31m:\u001b[0m 'continue' not properly in loop\n"
     ]
    }
   ],
   "source": [
    "a= int(input('Enter a number '))\n",
    "print('Integer format is inserted')\n",
    "l = [1,2,2,3,3,3,4,4,4,4,5,5,5,5,5,6,6,6,6,6,6,7,7,7,7,7,7,7,8,8,8,8,8,8,8,8,9,9,9,9,9,9,9,9,9]\n",
    "m = []\n",
    "\n",
    "if a == int:\n",
    "else:\n",
    "    print(\"Please enter a number\")"
   ]
  },
  {
   "cell_type": "code",
   "execution_count": null,
   "metadata": {},
   "outputs": [],
   "source": []
  }
 ],
 "metadata": {
  "kernelspec": {
   "display_name": "Python 3",
   "language": "python",
   "name": "python3"
  },
  "language_info": {
   "codemirror_mode": {
    "name": "ipython",
    "version": 3
   },
   "file_extension": ".py",
   "mimetype": "text/x-python",
   "name": "python",
   "nbconvert_exporter": "python",
   "pygments_lexer": "ipython3",
   "version": "3.6.10"
  }
 },
 "nbformat": 4,
 "nbformat_minor": 4
}
